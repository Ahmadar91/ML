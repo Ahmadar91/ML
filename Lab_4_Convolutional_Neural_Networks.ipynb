{
  "cells": [
    {
      "cell_type": "markdown",
      "metadata": {
        "id": "view-in-github",
        "colab_type": "text"
      },
      "source": [
        "<a href=\"https://colab.research.google.com/github/Ahmadar91/ML/blob/main/Lab_4_Convolutional_Neural_Networks.ipynb\" target=\"_parent\"><img src=\"https://colab.research.google.com/assets/colab-badge.svg\" alt=\"Open In Colab\"/></a>"
      ]
    },
    {
      "cell_type": "code",
      "execution_count": 2,
      "metadata": {
        "colab": {
          "base_uri": "https://localhost:8080/"
        },
        "id": "BHF8Jie5lxP8",
        "outputId": "b26a685d-f20c-4493-b586-7ce2df4be576"
      },
      "outputs": [
        {
          "output_type": "stream",
          "name": "stdout",
          "text": [
            "Populating the interactive namespace from numpy and matplotlib\n"
          ]
        },
        {
          "output_type": "stream",
          "name": "stderr",
          "text": [
            "/usr/local/lib/python3.10/dist-packages/IPython/core/magics/pylab.py:159: UserWarning: pylab import has clobbered these variables: ['unique', 'array']\n",
            "`%matplotlib` prevents importing * from pylab and numpy\n",
            "  warn(\"pylab import has clobbered these variables: %s\"  % clobbered +\n"
          ]
        }
      ],
      "source": [
        "%pylab inline"
      ]
    },
    {
      "cell_type": "code",
      "execution_count": 3,
      "metadata": {
        "id": "0WDXzK76lxP8"
      },
      "outputs": [],
      "source": [
        "from pandas import *\n",
        "import torch\n",
        "import torchvision\n",
        "import torch.nn as nn\n",
        "import torch.nn.functional as F\n",
        "import torch.optim as optim\n",
        "from torchvision import datasets, transforms\n",
        "from torch.autograd import Variable"
      ]
    },
    {
      "cell_type": "raw",
      "metadata": {
        "id": "4VgcJAqqlxP9"
      },
      "source": [
        "Define a couple of parameters \"meaningfully\" -> consult the tutorial for help\n",
        "https://pytorch.org/tutorials/beginner/deep_learning_60min_blitz.html\n",
        "\n",
        "We want to use the MNIST dataset (not CIFAR)!"
      ]
    },
    {
      "cell_type": "code",
      "execution_count": 4,
      "metadata": {
        "id": "9FoAexrQlxP9"
      },
      "outputs": [],
      "source": [
        "n_epochs = 2\n",
        "batch_size_train = 64\n",
        "batch_size_test = 10000\n",
        "learning_rate = 0.01\n",
        "momentum = 0.5\n"
      ]
    },
    {
      "cell_type": "raw",
      "metadata": {
        "id": "ZROOBoQzlxP9"
      },
      "source": [
        "Now we need to load the MNIST dataset using the dataloader functions\n",
        "for CIFAR the following transforms are used:\n",
        "transform = transforms.Compose([transforms.ToTensor(),transforms.Normalize((0.5, 0.5, 0.5), (0.5, 0.5, 0.5))])\n",
        "\n",
        "It turns out that for MNIST this transform works better due to the difference in value range:\n",
        "torchvision.transforms.Compose([\n",
        "                               torchvision.transforms.ToTensor(),\n",
        "                               torchvision.transforms.Normalize(\n",
        "                                 (0.1307,), (0.3081,))\n",
        "                             ])\n",
        "\n",
        "Observe that the RGB image for CIFAR needs three channels (all 0.5) MNIST has only one gray channel!\n",
        "\n",
        "\n"
      ]
    },
    {
      "cell_type": "code",
      "execution_count": 5,
      "metadata": {
        "id": "W9UIu7F-lxP9",
        "colab": {
          "base_uri": "https://localhost:8080/"
        },
        "outputId": "edafd331-e2c0-46bc-ace0-ce0b8b8df9f1"
      },
      "outputs": [
        {
          "output_type": "stream",
          "name": "stdout",
          "text": [
            "Downloading http://yann.lecun.com/exdb/mnist/train-images-idx3-ubyte.gz\n",
            "Downloading http://yann.lecun.com/exdb/mnist/train-images-idx3-ubyte.gz to ./data/MNIST/raw/train-images-idx3-ubyte.gz\n"
          ]
        },
        {
          "output_type": "stream",
          "name": "stderr",
          "text": [
            "100%|██████████| 9912422/9912422 [00:00<00:00, 143286948.94it/s]\n"
          ]
        },
        {
          "output_type": "stream",
          "name": "stdout",
          "text": [
            "Extracting ./data/MNIST/raw/train-images-idx3-ubyte.gz to ./data/MNIST/raw\n",
            "\n",
            "Downloading http://yann.lecun.com/exdb/mnist/train-labels-idx1-ubyte.gz\n",
            "Downloading http://yann.lecun.com/exdb/mnist/train-labels-idx1-ubyte.gz to ./data/MNIST/raw/train-labels-idx1-ubyte.gz\n"
          ]
        },
        {
          "output_type": "stream",
          "name": "stderr",
          "text": [
            "100%|██████████| 28881/28881 [00:00<00:00, 20756630.20it/s]\n"
          ]
        },
        {
          "output_type": "stream",
          "name": "stdout",
          "text": [
            "Extracting ./data/MNIST/raw/train-labels-idx1-ubyte.gz to ./data/MNIST/raw\n",
            "\n",
            "Downloading http://yann.lecun.com/exdb/mnist/t10k-images-idx3-ubyte.gz\n",
            "Downloading http://yann.lecun.com/exdb/mnist/t10k-images-idx3-ubyte.gz to ./data/MNIST/raw/t10k-images-idx3-ubyte.gz\n"
          ]
        },
        {
          "output_type": "stream",
          "name": "stderr",
          "text": [
            "100%|██████████| 1648877/1648877 [00:00<00:00, 41652712.33it/s]\n"
          ]
        },
        {
          "output_type": "stream",
          "name": "stdout",
          "text": [
            "Extracting ./data/MNIST/raw/t10k-images-idx3-ubyte.gz to ./data/MNIST/raw\n",
            "\n",
            "Downloading http://yann.lecun.com/exdb/mnist/t10k-labels-idx1-ubyte.gz\n",
            "Downloading http://yann.lecun.com/exdb/mnist/t10k-labels-idx1-ubyte.gz to ./data/MNIST/raw/t10k-labels-idx1-ubyte.gz\n"
          ]
        },
        {
          "output_type": "stream",
          "name": "stderr",
          "text": [
            "100%|██████████| 4542/4542 [00:00<00:00, 10548465.54it/s]"
          ]
        },
        {
          "output_type": "stream",
          "name": "stdout",
          "text": [
            "Extracting ./data/MNIST/raw/t10k-labels-idx1-ubyte.gz to ./data/MNIST/raw\n",
            "\n"
          ]
        },
        {
          "output_type": "stream",
          "name": "stderr",
          "text": [
            "\n"
          ]
        }
      ],
      "source": [
        "transform = transforms.Compose([transforms.ToTensor(),transforms.Normalize((0.5,),(0.5,))])\n",
        "train_set = torchvision.datasets.MNIST(root='./data', train=True, download=True, transform=transform)\n",
        "train_loader =  torch.utils.data.DataLoader(train_set, batch_size=batch_size_train, shuffle=True)\n",
        "\n",
        "test_set = torchvision.datasets.MNIST(root='./data', train=False, download=True, transform=transform)\n",
        "test_loader = torch.utils.data.DataLoader(test_set, batch_size=batch_size_test, shuffle=False)\n"
      ]
    },
    {
      "cell_type": "raw",
      "metadata": {
        "id": "JPHAiHxVlxP9"
      },
      "source": [
        "I recommend testing is the dataloader worked, render one of the images and put the numeral in the title"
      ]
    },
    {
      "cell_type": "code",
      "execution_count": 6,
      "metadata": {
        "colab": {
          "base_uri": "https://localhost:8080/",
          "height": 452
        },
        "id": "g31R77VdlxP9",
        "outputId": "b1f47d06-a116-4f44-92bc-d5f39e5eee16"
      },
      "outputs": [
        {
          "output_type": "display_data",
          "data": {
            "text/plain": [
              "<Figure size 640x480 with 1 Axes>"
            ],
            "image/png": "[encoded data removed]"
          },
          "metadata": {}
        }
      ],
      "source": [
        "dataiter = iter(train_loader)\n",
        "images, labels = next(dataiter)\n",
        "\n",
        "image = images[0]\n",
        "label = labels[0]\n",
        "\n",
        "image = image * 0.5 + 0.5\n",
        "\n",
        "image = image.numpy()\n",
        "\n",
        "plt.imshow(image.squeeze(), cmap='gray')\n",
        "\n",
        "plt.title(str(label.item()))\n",
        "\n",
        "plt.show()\n"
      ]
    },
    {
      "cell_type": "raw",
      "metadata": {
        "id": "wnNDAXLklxP9"
      },
      "source": [
        "Now we need to define our convolutional neural network, is should have 1 convolutional layer (I recommend handing over the kernel size as a parameter at construction) and 1 pooling layer followed by other normal layers\n",
        "\n",
        "You only have one in channel (gray)\n",
        "\n",
        "the number of out channels is up to you - pick wisely, the same applies to the other weights of the other layers"
      ]
    },
    {
      "cell_type": "code",
      "execution_count": 78,
      "metadata": {
        "id": "e-d9lRrtlxP9"
      },
      "outputs": [],
      "source": [
        "class MyCNN(nn.Module):\n",
        "    def __init__(self, kernel_size=2):\n",
        "        super(MyCNN, self).__init__()\n",
        "        self.kernel_size = kernel_size\n",
        "        input_size = 28\n",
        "        con_stride=1\n",
        "        print(self.kernel_size)\n",
        "        self.conv1 = nn.Conv2d(in_channels=1, out_channels=16, kernel_size=self.kernel_size)\n",
        "        conv_out_size = (input_size - self.kernel_size)  + 1\n",
        "        print(f\"conv_out_size: {conv_out_size}\")\n",
        "        self.pool = nn.MaxPool2d(2,2)\n",
        "        pool_out_size = conv_out_size // 2\n",
        "        print(f\"pool_out_size: {pool_out_size}\")\n",
        "        input_size_after_conv_and_pool = 16 * pool_out_size * pool_out_size\n",
        "        self.fc1 = nn.Linear(input_size_after_conv_and_pool , 32)\n",
        "        #self.fc2 = nn.Linear(120, 84)\n",
        "        self.fc3 = nn.Linear(32, 10)\n",
        "\n",
        "    def forward(self, x):\n",
        "        x = self.pool(F.relu(self.conv1(x)))\n",
        "        #print(x.shape)\n",
        "        #x = x.view(-1, np.product(x.shape[1:])) # not working\n",
        "        #x = x.view(-1, np.product(x.shape)) # not working\n",
        "        x = x.view(x.size(0), -1) # works\n",
        "        #x=x.reshape(x.size(0),-1) # works\n",
        "        x = F.relu(self.fc1(x))\n",
        "        x = self.fc3(x)\n",
        "        #print('test here ',np.shape(x))\n",
        "        #x = F.relu(self.fc2(x))\n",
        "\n",
        "        return x"
      ]
    },
    {
      "cell_type": "code",
      "source": [
        "class MyCNN(nn.Module):\n",
        "    def __init__(self, kernel_size=2):\n",
        "        super(MyCNN, self).__init__()\n",
        "        self.kernel_size = kernel_size\n",
        "        input_size = 28\n",
        "        print(self.kernel_size)\n",
        "        ouput_channels_value = 16\n",
        "        self.conv1 = nn.Conv2d(in_channels=1, out_channels=ouput_channels_value, kernel_size=self.kernel_size)\n",
        "        conv_out_size = (input_size - self.kernel_size)  + 1\n",
        "        print(f\"conv_out_size: {conv_out_size}\")\n",
        "        self.pool = nn.MaxPool2d(2,2)\n",
        "        pool_out_size = conv_out_size // 2\n",
        "        print(f\"pool_out_size: {pool_out_size}\")\n",
        "        input_size_after_conv_and_pool = ouput_channels_value * pool_out_size * pool_out_size\n",
        "\n",
        "        self.fc1 = nn.Linear(input_size_after_conv_and_pool, 32)\n",
        "        self.fc3 = nn.Linear(32, 10)\n",
        "\n",
        "    def forward(self, x):\n",
        "        x = self.pool(F.relu(self.conv1(x)))\n",
        "        x = x.view(x.size(0), -1)  # Flatten the tensor before passing it to the fully connected layer\n",
        "        x = F.relu(self.fc1(x))  # Apply ReLU after the fully connected layer `fc1`\n",
        "        x = self.fc3(x)  # `fc3` should be the last layer in the forward pass\n",
        "        return x\n"
      ],
      "metadata": {
        "id": "5psmVUN4HuT5"
      },
      "execution_count": 21,
      "outputs": []
    },
    {
      "cell_type": "code",
      "source": [
        "# Twan\n",
        "\n",
        "class MyCNN(nn.Module):\n",
        "    def __init__(self, kernel_size=2):\n",
        "        super(MyCNN, self).__init__()\n",
        "        self.kernel_size = kernel_size\n",
        "        input_size = 28\n",
        "        con_stride=1\n",
        "        self.conv1 = nn.Conv2d(1, 16,self.kernel_size)\n",
        "        conv_out_size = (input_size - self.kernel_size)  + 1\n",
        "        print(f\"conv_out_size: {conv_out_size}\")\n",
        "        self.pool = nn.MaxPool2d(2, 2)\n",
        "        pool_out_size = conv_out_size // 2\n",
        "        print(f\"pool_out_size: {pool_out_size}\")\n",
        "        input_size_after_conv_and_pool = 16 * 13 * 13\n",
        "        self.fc1 = nn.Linear(input_size_after_conv_and_pool , 32)\n",
        "        #self.fc2 = nn.Linear(120, 84)\n",
        "        self.fc3 = nn.Linear(173056, 10)\n",
        "\n",
        "    def forward(self, x):\n",
        "        self.features = F.relu(self.conv1(x))\n",
        "        x = self.pool(self.features)\n",
        "        print(x.shape)\n",
        "        x = x.view(-1, np.product(x.shape))\n",
        "        print(x.shape)\n",
        "        x = self.fc3(x)\n",
        "        #x = F.relu(self.fc1(x))\n",
        "        #print('test here ',np.shape(x))\n",
        "        #x = F.relu(self.fc2(x))\n",
        "        return x"
      ],
      "metadata": {
        "id": "K0fBsl39FZrU"
      },
      "execution_count": 73,
      "outputs": []
    },
    {
      "cell_type": "markdown",
      "source": [],
      "metadata": {
        "id": "hUyCidqiEkSR"
      }
    },
    {
      "cell_type": "raw",
      "metadata": {
        "id": "vZaAw81HlxP9"
      },
      "source": [
        "Now implement the training and testing code. Toggle the training and testing for the convolutional neural network\n",
        "using the model.train() and model.eval() functions!\n",
        "Choose your own optimiser and loss function!\n",
        "\n",
        "Collect training and testing accuracy over training"
      ]
    },
    {
      "cell_type": "code",
      "execution_count": 79,
      "metadata": {
        "colab": {
          "base_uri": "https://localhost:8080/"
        },
        "id": "ydVXkJZclxP9",
        "outputId": "352eaf35-65b7-4260-d8c9-56e9ed5f477b"
      },
      "outputs": [
        {
          "output_type": "stream",
          "name": "stdout",
          "text": [
            "5\n",
            "conv_out_size: 24\n",
            "pool_out_size: 12\n"
          ]
        }
      ],
      "source": [
        "trainAccuracy = list()\n",
        "testAccuracy = list()\n",
        "\n",
        "model = MyCNN(5)\n",
        "criterion = nn.CrossEntropyLoss()\n",
        "optimizer = optim.SGD(model.parameters(), lr=learning_rate, momentum=momentum)\n",
        "\n",
        "\n"
      ]
    },
    {
      "cell_type": "code",
      "source": [
        "for inputs, labels in train_loader:\n",
        "        inputs, labels = Variable(inputs), Variable(labels)\n",
        "        outputs = model(inputs)"
      ],
      "metadata": {
        "id": "0EKCxbSdYG2o"
      },
      "execution_count": null,
      "outputs": []
    },
    {
      "cell_type": "code",
      "source": [
        "\n",
        "def train(model, train_loader, criterion, optimizer):\n",
        "    model.train()\n",
        "    correct_train = 0\n",
        "    total_train = 0\n",
        "\n",
        "    for inputs, labels in train_loader:\n",
        "        inputs, labels = Variable(inputs), Variable(labels)\n",
        "        optimizer.zero_grad()\n",
        "        outputs = model(inputs)\n",
        "        loss = criterion(outputs, labels)\n",
        "        loss.backward()\n",
        "        optimizer.step()\n",
        "        _, predicted = torch.max(outputs.data, 1)\n",
        "        total_train += labels.size(0)\n",
        "        correct_train += (predicted == labels).sum().item()\n",
        "\n",
        "    train_accuracy = 100 * correct_train / total_train\n",
        "    return train_accuracy\n",
        "\n",
        "def test(model, test_loader):\n",
        "    model.eval()\n",
        "    correct_test = 0\n",
        "    total_test = 0\n",
        "    with torch.no_grad():\n",
        "        for images, labels in test_loader:\n",
        "            outputs = model(images)\n",
        "            _, predicted = torch.max(outputs.data, 1)\n",
        "            total_test += labels.size(0)\n",
        "            correct_test += (predicted == labels).sum().item()\n",
        "\n",
        "    test_accuracy = 100 * correct_test / total_test\n",
        "    return test_accuracy\n",
        "\n",
        "\n",
        "for epoch in range(n_epochs):\n",
        "    train_accuracy = train(model, train_loader, criterion, optimizer)\n",
        "    trainAccuracy.append(train_accuracy)\n",
        "\n",
        "    test_accuracy = test(model, test_loader)\n",
        "    testAccuracy.append(test_accuracy)\n",
        "\n",
        "    print(f'Epoch {epoch+1}, Train Accuracy: {train_accuracy:.2f}%, Test Accuracy: {test_accuracy:.2f}%')\n",
        "\n",
        "print('Finished Training')\n"
      ],
      "metadata": {
        "colab": {
          "base_uri": "https://localhost:8080/"
        },
        "id": "Qvt3j51U8eLR",
        "outputId": "ca410e1e-7487-4bcb-f06f-9e55d9e3c96f"
      },
      "execution_count": 80,
      "outputs": [
        {
          "output_type": "stream",
          "name": "stdout",
          "text": [
            "Epoch 1, Train Accuracy: 88.79%, Test Accuracy: 95.48%\n",
            "Epoch 2, Train Accuracy: 96.18%, Test Accuracy: 97.09%\n",
            "Finished Training\n"
          ]
        }
      ]
    },
    {
      "cell_type": "raw",
      "metadata": {
        "id": "IRkNCsGolxP9"
      },
      "source": [
        "now we plot both to test for overfitting"
      ]
    },
    {
      "cell_type": "code",
      "execution_count": 81,
      "metadata": {
        "colab": {
          "base_uri": "https://localhost:8080/",
          "height": 472
        },
        "id": "pIW2RAa8lxP9",
        "outputId": "a6aa595d-2858-4ce1-c2aa-d38a86d92b3b"
      },
      "outputs": [
        {
          "output_type": "display_data",
          "data": {
            "text/plain": [
              "<Figure size 640x480 with 1 Axes>"
            ],
            "image/png": "[encoded data removed]"
          },
          "metadata": {}
        }
      ],
      "source": [
        "\n",
        "\n",
        "import matplotlib.pyplot as plt\n",
        "\n",
        "plt.plot(trainAccuracy, 'k', label='Training Accuracy')\n",
        "plt.plot(testAccuracy, 'r', label='Testing Accuracy')\n",
        "\n",
        "plt.title('Training and Testing Accuracy over Epochs')\n",
        "plt.xlabel('Epochs')\n",
        "plt.ylabel('Accuracy (%)')\n",
        "plt.legend(loc='upper right')\n",
        "\n",
        "plt.show()\n"
      ]
    },
    {
      "cell_type": "raw",
      "metadata": {
        "id": "mHXp4TAglxP-"
      },
      "source": [
        "Tune the parameters above until you get a good training efficiency and not too much overfitting, also do not train more than neccesary\n",
        "\n",
        "In the next cell we define the kernel sizes we want to test"
      ]
    },
    {
      "cell_type": "code",
      "execution_count": null,
      "metadata": {
        "id": "Pzo_BDp6lxP-"
      },
      "outputs": [],
      "source": [
        "kernelSizes=[2,3,4,5]\n",
        "\n",
        "for kernelSize in kernelSizes:\n",
        "    trainAccuracy=list()\n",
        "    testAccuracy=list()\n",
        "    #instantiate your CNN using kernel size\n",
        "\n",
        "    #define optimizer and loss function\n",
        "\n",
        "    #train and test - you can copy the code\n",
        "\n",
        "    #now plot this\n",
        "    figure()\n",
        "    plot(trainAccuracy,'k')\n",
        "    plot(testAccuracy,'r')\n",
        "    title(\"Kernel size: \"+str(kernelSize))\n"
      ]
    },
    {
      "cell_type": "raw",
      "metadata": {
        "id": "rydm49CklxP-"
      },
      "source": [
        "Compare the plots from above and explain which kernel size worked best, hypothesize about why?"
      ]
    },
    {
      "cell_type": "raw",
      "metadata": {
        "id": "B3aMmz1AlxP-"
      },
      "source": [
        "Your answer here:\n",
        "\n",
        "1.   List item\n",
        "2.   List item\n",
        "\n",
        "\n"
      ]
    },
    {
      "cell_type": "raw",
      "metadata": {
        "id": "RgiLjd5TlxP-"
      },
      "source": [
        "Now pick a random image and pipe it through your trained CNN\n",
        "extract the output of the convolutional layer for each output channel and visualize that as an image\n",
        "Observe that the template CNN has a self.features variable ... that might help here"
      ]
    },
    {
      "cell_type": "code",
      "execution_count": null,
      "metadata": {
        "id": "Kq9uJWNnlxP-"
      },
      "outputs": [],
      "source": []
    },
    {
      "cell_type": "raw",
      "metadata": {
        "id": "PCyhaBrplxP-"
      },
      "source": [
        "Can you guess the feature that each channel extracted? short text below"
      ]
    },
    {
      "cell_type": "raw",
      "metadata": {
        "id": "cTyDiKsClxP-"
      },
      "source": [
        "Your answer here:"
      ]
    }
  ],
  "metadata": {
    "kernelspec": {
      "display_name": "Python 3",
      "name": "python3"
    },
    "language_info": {
      "codemirror_mode": {
        "name": "ipython",
        "version": 3
      },
      "file_extension": ".py",
      "mimetype": "text/x-python",
      "name": "python",
      "nbconvert_exporter": "python",
      "pygments_lexer": "ipython3",
      "version": "3.7.9"
    },
    "colab": {
      "provenance": [],
      "include_colab_link": true
    }
  },
  "nbformat": 4,
  "nbformat_minor": 0
}